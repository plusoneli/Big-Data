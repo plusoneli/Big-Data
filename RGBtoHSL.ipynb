{
 "cells": [
  {
   "cell_type": "code",
   "execution_count": null,
   "metadata": {},
   "outputs": [],
   "source": [
    "#RGB to HSL\n",
    "import colorsys\n",
    "list1 = [142,92,170]\n",
    "HLScolor = colorsys.rgb_to_hls(list1[0],list1[1],list1[2])\n",
    "print(HSLcolor)"
   ]
  },
  {
   "cell_type": "code",
   "execution_count": null,
   "metadata": {},
   "outputs": [],
   "source": []
  },
  {
   "cell_type": "code",
   "execution_count": null,
   "metadata": {},
   "outputs": [],
   "source": [
    "#Data Clean\n",
    "with open(\"crawled-college.csv\",\"r\") as file:\n",
    "    with open(\"college.csv\", \"w\") as output:\n",
    "        for line in file:\n",
    "            if \"tweet\" not in line:\n",
    "                continue\n",
    "            tweet = line.split(\":\")[1].replace('\"', '').lstrip()\n",
    "            if len(tweet) > 10:\n",
    "                output.write(tweet)"
   ]
  }
 ],
 "metadata": {
  "kernelspec": {
   "display_name": "Python 3",
   "language": "python",
   "name": "python3"
  },
  "language_info": {
   "codemirror_mode": {
    "name": "ipython",
    "version": 3
   },
   "file_extension": ".py",
   "mimetype": "text/x-python",
   "name": "python",
   "nbconvert_exporter": "python",
   "pygments_lexer": "ipython3",
   "version": "3.7.3"
  }
 },
 "nbformat": 4,
 "nbformat_minor": 4
}
